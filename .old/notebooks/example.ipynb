{
    "cells": [
        {
            "cell_type": "code",
            "execution_count": 2,
            "source": [
                "%matplotlib widget\r\n",
                "import numpy as np\r\n",
                "import matplotlib.pyplot as pt"
            ],
            "outputs": [],
            "metadata": {}
        },
        {
            "cell_type": "code",
            "execution_count": null,
            "source": [
                "pt.plot([1, 2], [1, 2])"
            ],
            "outputs": [],
            "metadata": {}
        }
    ],
    "metadata": {
        "orig_nbformat": 4,
        "language_info": {
            "name": "python",
            "version": "3.9.6",
            "mimetype": "text/x-python",
            "codemirror_mode": {
                "name": "ipython",
                "version": 3
            },
            "pygments_lexer": "ipython3",
            "nbconvert_exporter": "python",
            "file_extension": ".py"
        },
        "kernelspec": {
            "name": "python3",
            "display_name": "Python 3.9.6 64-bit ('ece3091': conda)"
        },
        "interpreter": {
            "hash": "2913c5e1516bc3a60f30efe99cf91db702cf07b92313d2b665104044f70f1edb"
        }
    },
    "nbformat": 4,
    "nbformat_minor": 2
}